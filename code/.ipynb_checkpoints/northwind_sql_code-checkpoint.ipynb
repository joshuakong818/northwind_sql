{
 "cells": [
  {
   "cell_type": "code",
   "execution_count": null,
   "metadata": {},
   "outputs": [],
   "source": [
    "# importing psycopg2; python library which enables postgresql use through pgadmin\n",
    "import psycopg2 as pg2"
   ]
  },
  {
   "cell_type": "code",
   "execution_count": null,
   "metadata": {},
   "outputs": [],
   "source": [
    "# directing connection to northwind database\n",
    "conn = pg2.connect(database='northwind',user='postgres',password='')"
   ]
  },
  {
   "cell_type": "code",
   "execution_count": null,
   "metadata": {},
   "outputs": [],
   "source": [
    "# establishing cursor for connection\n",
    "cur = conn.cursor()"
   ]
  },
  {
   "cell_type": "markdown",
   "metadata": {},
   "source": [
    "Which territories is each employee responsible for?"
   ]
  },
  {
   "cell_type": "code",
   "execution_count": null,
   "metadata": {},
   "outputs": [],
   "source": [
    "cur.execute('SELECT firstname, lastname, territorydescription FROM employees LEFT OUTER JOIN employeeterritories ON employees.employeeid = employeeterritories.employeeid LEFT OUTER JOIN territories ON employeeterritories.territoryid = territories.territoryid')"
   ]
  },
  {
   "cell_type": "markdown",
   "metadata": {},
   "source": [
    "```\n",
    "  SELECT \n",
    "    firstname, lastname, territorydescription \n",
    "  FROM employees\n",
    "    LEFT OUTER JOIN employeeterritories\n",
    "    ON employees.employeeid = employeeterritories.employeeid\n",
    "    LEFT OUTER JOIN territories\n",
    "    ON employeeterritories.territoryid = territories.territoryid;```"
   ]
  },
  {
   "cell_type": "code",
   "execution_count": null,
   "metadata": {},
   "outputs": [],
   "source": [
    "# Shows first 10 results of query\n",
    "cur.fetchmany(10)"
   ]
  },
  {
   "cell_type": "code",
   "execution_count": null,
   "metadata": {},
   "outputs": [],
   "source": [
    "conn.close()"
   ]
  },
  {
   "cell_type": "markdown",
   "metadata": {},
   "source": [
    "What are the top 5 products sold by volume?"
   ]
  },
  {
   "cell_type": "code",
   "execution_count": null,
   "metadata": {},
   "outputs": [],
   "source": [
    "cur.execute('SELECT productname, SUM(quantity) FROM orders LEFT OUTER JOIN order_details ON orders.orderid = order_details.orderid LEFT OUTER JOIN products ON order_details.productid = products.productid GROUP BY productname ORDER BY SUM(quantity) DESC LIMIT 5;')"
   ]
  },
  {
   "cell_type": "markdown",
   "metadata": {},
   "source": [
    "```\n",
    "   SELECT\n",
    "    productname, \n",
    "    SUM(quantity) AS quant_sum \n",
    "   FROM orders\n",
    "    LEFT OUTER JOIN order_details\n",
    "    ON orders.orderid = order_details.orderid\n",
    "    LEFT OUTER JOIN products AS pr\n",
    "    ON order_details.productid = pr.productid\n",
    "   GROUP BY productname\n",
    "   ORDER BY SUM(quantity) DESC\n",
    "   LIMIT 5;```"
   ]
  },
  {
   "cell_type": "code",
   "execution_count": null,
   "metadata": {},
   "outputs": [],
   "source": [
    "cur.fetchall()"
   ]
  },
  {
   "cell_type": "markdown",
   "metadata": {},
   "source": [
    "Which orders were made on May 1997 and December 1997?"
   ]
  },
  {
   "cell_type": "code",
   "execution_count": null,
   "metadata": {},
   "outputs": [],
   "source": [
    "cur.execute('SELECT orderid, TO_CHAR(orderdate, \"MM/YYYY\") AS order_month_yr FROM orders WHERE TO_CHAR(orderdate, \"MM/YYYY\") ILIKE \"05/1997%\" OR TO_CHAR(orderdate, \"MM/YYYY\") ILIKE \"12/1997%\"')"
   ]
  },
  {
   "cell_type": "markdown",
   "metadata": {},
   "source": [
    "```\n",
    "  SELECT \n",
    "     orderid, \n",
    "     TO_CHAR(orderdate, 'MM/YYYY') AS order_month_yr \n",
    "  FROM orders\n",
    "     WHERE TO_CHAR(orderdate, 'MM/YYYY') ILIKE '05/1997%' \n",
    "     OR TO_CHAR(orderdate, 'MM/YYYY') ILIKE '12/1997%'```\n"
   ]
  },
  {
   "cell_type": "markdown",
   "metadata": {},
   "source": [
    "What is the price of products post discount?"
   ]
  },
  {
   "cell_type": "code",
   "execution_count": null,
   "metadata": {},
   "outputs": [],
   "source": [
    "cur.execute('SELECT productname, (order_details.unitprice - (order_details.unitprice*discount)) AS net_unitprice FROM order_details LEFT OUTER JOIN products ON order_details.productid = products.productid')"
   ]
  },
  {
   "cell_type": "markdown",
   "metadata": {},
   "source": [
    "```\n",
    "SELECT \n",
    "    productname, \n",
    "    (order_details.unitprice - (order_details.unitprice*discount)) AS net_unitprice \n",
    "FROM order_details\n",
    "    LEFT OUTER JOIN products\n",
    "    ON order_details.productid = products.productid```"
   ]
  },
  {
   "cell_type": "markdown",
   "metadata": {},
   "source": [
    "Create the emails of the employees."
   ]
  },
  {
   "cell_type": "code",
   "execution_count": null,
   "metadata": {},
   "outputs": [],
   "source": [
    "cur.execute('SELECT LEFT(LOWER(firstname),1) || LOWER(lastname) || \"@northwind.com\" AS emp_email FROM employees')"
   ]
  },
  {
   "cell_type": "markdown",
   "metadata": {},
   "source": [
    "```SELECT LEFT(LOWER(firstname),1) || LOWER(lastname) || '@northwind.com' AS emp_email\n",
    "FROM employees```"
   ]
  },
  {
   "cell_type": "markdown",
   "metadata": {},
   "source": [
    "Provide first and last name for employees who had orders ship to postal code 01307."
   ]
  },
  {
   "cell_type": "markdown",
   "metadata": {},
   "source": [
    "```\n",
    "SELECT \n",
    "    firstname || ' '  || lastname FROM employees AS e\n",
    "WHERE EXISTS\n",
    "    (SELECT * \n",
    "     FROM orders AS o\n",
    "     WHERE e.employeeid = o.employeeid\n",
    "     AND shippostalcode = '01307')```"
   ]
  },
  {
   "cell_type": "markdown",
   "metadata": {},
   "source": [
    "Per order, how many of products purchased had unit prices greater than $10?"
   ]
  },
  {
   "cell_type": "markdown",
   "metadata": {},
   "source": [
    "```\n",
    "SELECT  \n",
    "\tSUM(CASE \n",
    "    \tWHEN unitprice > 10 THEN 1\n",
    "\t\tWHEN unitprice <=10 THEN 0\n",
    "\tEND)\n",
    "FROM order_details\n",
    "GROUP BY orderid;```\n"
   ]
  },
  {
   "cell_type": "markdown",
   "metadata": {},
   "source": [
    "By month in 1998, how many orders were there?"
   ]
  },
  {
   "cell_type": "markdown",
   "metadata": {},
   "source": [
    "```\n",
    "SELECT \n",
    "\tTO_CHAR(orderdate,'MM') AS month, \n",
    "\tCOUNT(*) AS monthly_transactions\n",
    "FROM orders\n",
    "WHERE \n",
    "\tTO_CHAR(orderdate,'YYYY') ILIKE '1998%'\n",
    "GROUP BY \n",
    "\tTO_CHAR(orderdate,'MM');```"
   ]
  },
  {
   "cell_type": "code",
   "execution_count": null,
   "metadata": {},
   "outputs": [],
   "source": []
  },
  {
   "cell_type": "code",
   "execution_count": null,
   "metadata": {},
   "outputs": [],
   "source": []
  },
  {
   "cell_type": "code",
   "execution_count": null,
   "metadata": {},
   "outputs": [],
   "source": [
    "conn.close()"
   ]
  }
 ],
 "metadata": {
  "kernelspec": {
   "display_name": "Python 3",
   "language": "python",
   "name": "python3"
  },
  "language_info": {
   "codemirror_mode": {
    "name": "ipython",
    "version": 3
   },
   "file_extension": ".py",
   "mimetype": "text/x-python",
   "name": "python",
   "nbconvert_exporter": "python",
   "pygments_lexer": "ipython3",
   "version": "3.7.4"
  }
 },
 "nbformat": 4,
 "nbformat_minor": 2
}
